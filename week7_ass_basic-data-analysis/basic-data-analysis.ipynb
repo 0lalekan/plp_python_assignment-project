{
 "cells": [
  {
   "cell_type": "code",
   "execution_count": null,
   "id": "686882f1",
   "metadata": {},
   "outputs": [
    {
     "name": "stdout",
     "output_type": "stream",
     "text": [
      "First 5 rows of the dataset:\n",
      "   sepal length (cm)  sepal width (cm)  petal length (cm)  petal width (cm)  \\\n",
      "0                5.1               3.5                1.4               0.2   \n",
      "1                4.9               3.0                1.4               0.2   \n",
      "2                4.7               3.2                1.3               0.2   \n",
      "3                4.6               3.1                1.5               0.2   \n",
      "4                5.0               3.6                1.4               0.2   \n",
      "\n",
      "   species  \n",
      "0        0  \n",
      "1        0  \n",
      "2        0  \n",
      "3        0  \n",
      "4        0  \n",
      "\n",
      "Dataset info:\n",
      "<class 'pandas.core.frame.DataFrame'>\n",
      "RangeIndex: 150 entries, 0 to 149\n",
      "Data columns (total 5 columns):\n",
      " #   Column             Non-Null Count  Dtype  \n",
      "---  ------             --------------  -----  \n",
      " 0   sepal length (cm)  150 non-null    float64\n",
      " 1   sepal width (cm)   150 non-null    float64\n",
      " 2   petal length (cm)  150 non-null    float64\n",
      " 3   petal width (cm)   150 non-null    float64\n",
      " 4   species            150 non-null    int64  \n",
      "dtypes: float64(4), int64(1)\n",
      "memory usage: 6.0 KB\n",
      "None\n"
     ]
    }
   ],
   "source": [
    "# Task 1: Load and Explore the Dataset\n",
    "import pandas as pd\n",
    "import matplotlib.pyplot as plt\n",
    "from sklearn.datasets import load_iris\n",
    "\n",
    "# Load the iris dataset\n",
    "iris = load_iris()\n",
    "df = pd.DataFrame(data=iris.data, columns=iris.feature_names)\n",
    "df['species'] = iris.target\n",
    "\n",
    "# Show first few rows\n",
    "print(\"First 5 rows of the dataset:\")\n",
    "print(df.head())\n",
    "\n",
    "# Dataset info\n",
    "print(\"\\nDataset Information:\")\n",
    "print(df.info())\n",
    "\n",
    "# Check for missing values\n",
    "print(\"\\nMissing Values:\")\n",
    "print(df.isnull().sum())\n"
   ]
  },
  {
   "cell_type": "code",
   "execution_count": null,
   "id": "54abf382",
   "metadata": {},
   "outputs": [],
   "source": [
    "# Task 2: Basic Data Analysis\n",
    "\n",
    "# Summary statistics\n",
    "print(\"\\nSummary Statistics:\")\n",
    "print(df.describe())\n",
    "\n",
    "# Group by species and calculate average values\n",
    "print(\"\\nAverage values per species:\")\n",
    "grouped = df.groupby('species').mean()\n",
    "print(grouped)\n"
   ]
  },
  {
   "cell_type": "code",
   "execution_count": null,
   "id": "e9882d1f",
   "metadata": {},
   "outputs": [],
   "source": [
    "# Task 3: Data Visualization\n",
    "\n",
    "# 1. Line chart: Petal length trend\n",
    "df['petal length (cm)'].plot(kind='line', title=\"Petal Length Trend\")\n",
    "plt.xlabel(\"Index\")\n",
    "plt.ylabel(\"Petal Length (cm)\")\n",
    "plt.show()\n",
    "\n",
    "# 2. Bar chart: Average petal length per species\n",
    "grouped['petal length (cm)'].plot(kind='bar', title=\"Average Petal Length by Species\")\n",
    "plt.xlabel(\"Species\")\n",
    "plt.ylabel(\"Petal Length (cm)\")\n",
    "plt.show()\n",
    "\n",
    "# 3. Histogram: Sepal width distribution\n",
    "df['sepal width (cm)'].plot(kind='hist', bins=20, title=\"Sepal Width Distribution\")\n",
    "plt.xlabel(\"Sepal Width (cm)\")\n",
    "plt.show()\n",
    "\n",
    "# 4. Scatter plot: Sepal length vs Petal length\n",
    "plt.scatter(df['sepal length (cm)'], df['petal length (cm)'])\n",
    "plt.title(\"Sepal Length vs Petal Length\")\n",
    "plt.xlabel(\"Sepal Length (cm)\")\n",
    "plt.ylabel(\"Petal Length (cm)\")\n",
    "plt.show()"
   ]
  }
 ],
 "metadata": {
  "kernelspec": {
   "display_name": "Python 3",
   "language": "python",
   "name": "python3"
  },
  "language_info": {
   "codemirror_mode": {
    "name": "ipython",
    "version": 3
   },
   "file_extension": ".py",
   "mimetype": "text/x-python",
   "name": "python",
   "nbconvert_exporter": "python",
   "pygments_lexer": "ipython3",
   "version": "3.13.5"
  }
 },
 "nbformat": 4,
 "nbformat_minor": 5
}
